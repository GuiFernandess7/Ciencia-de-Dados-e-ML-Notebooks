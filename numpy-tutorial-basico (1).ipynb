{
 "cells": [
  {
   "cell_type": "code",
   "execution_count": 2,
   "id": "519238de",
   "metadata": {},
   "outputs": [],
   "source": [
    "import numpy as np"
   ]
  },
  {
   "cell_type": "markdown",
   "id": "e8939042",
   "metadata": {},
   "source": [
    "## Np.array()"
   ]
  },
  {
   "cell_type": "code",
   "execution_count": 31,
   "id": "47d98c88",
   "metadata": {},
   "outputs": [
    {
     "data": {
      "text/plain": [
       "array([[2, 3, 4, 5],\n",
       "       [7, 2, 5, 0]])"
      ]
     },
     "execution_count": 31,
     "metadata": {},
     "output_type": "execute_result"
    }
   ],
   "source": [
    "numbers = [[2, 3, 4, 5], [7, 2, 5, 0]] # Lista bidimensional\n",
    "data_type = \"int\" # Tipo de dados do array\n",
    "a_array = np.array(numbers, data_type) # Converte a lista em array com dados do tipo int\n",
    "a_array"
   ]
  },
  {
   "cell_type": "code",
   "execution_count": 29,
   "id": "42798cb1",
   "metadata": {},
   "outputs": [
    {
     "data": {
      "text/plain": [
       "array([[ True,  True,  True,  True],\n",
       "       [ True,  True,  True, False]])"
      ]
     },
     "execution_count": 29,
     "metadata": {},
     "output_type": "execute_result"
    }
   ],
   "source": [
    "b_array = np.array(a_array, \"bool\") # Converte os dados do array em floats/bool ou str\n",
    "b_array"
   ]
  },
  {
   "cell_type": "markdown",
   "id": "7f449ca1",
   "metadata": {},
   "source": [
    "Existem muitos outros tipos de dados que podem ser especificados no parâmetro dtype do método np.array() do NumPy. Aqui estão alguns exemplos adicionais:\n",
    "\n",
    "    complex: para números complexos\n",
    "    object: para objetos Python\n",
    "    datetime64: para objetos de data e hora\n",
    "    timedelta64: para objetos de diferença de tempo\n",
    "    category: para variáveis categóricas\n",
    "\n",
    "Além disso, o NumPy também oferece suporte a tipos de dados especializados, como float16, float32, float64, int8, int16, int32, int64, etc. Você pode ver a lista completa de tipos de dados suportados pelo NumPy na documentação do NumPy."
   ]
  },
  {
   "cell_type": "code",
   "execution_count": 31,
   "id": "d16b8059",
   "metadata": {},
   "outputs": [
    {
     "data": {
      "text/plain": [
       "array([[True, True, True, True],\n",
       "       [True, True, True, False]], dtype=object)"
      ]
     },
     "execution_count": 31,
     "metadata": {},
     "output_type": "execute_result"
    }
   ],
   "source": [
    "new_data_type = \"object\"\n",
    "c_array = np.array(b_array, new_data_type)\n",
    "c_array"
   ]
  },
  {
   "cell_type": "markdown",
   "id": "d81c655e",
   "metadata": {},
   "source": [
    "O método np.array() do NumPy aceita vários parâmetros diferentes que podem ser usados para controlar a criação de um array. Aqui estão alguns dos principais parâmetros que podem ser passados para o método np.array():\n",
    "\n",
    "    object: um objeto Python que será convertido em um array NumPy. Isso pode ser uma lista, tupla, matriz, etc.\n",
    "    dtype: o tipo de dados dos elementos no array. Por exemplo, float, int, bool, etc.\n",
    "    copy: um valor lógico que indica se o array deve ser copiado ou apenas visto como um vista do objeto original.\n",
    "    order: o ordenamento dos elementos no array. As opções são 'C' para uma ordem de armazenamento C-style ou 'F' para uma ordem de armazenamento Fortran-style. (o primeiro faz o programa ler linha por linha, e no segundo ele lê coluna por coluna)\n",
    "    subok: um valor lógico que indica se os objetos herdados devem ser retornados como objetos ou se devem ser convertidos em arrays NumPy.\n",
    "    offset: um inteiro que indica a posição do primeiro elemento no buffer."
   ]
  },
  {
   "cell_type": "code",
   "execution_count": 60,
   "id": "e29df211",
   "metadata": {},
   "outputs": [
    {
     "data": {
      "text/plain": [
       "array([[2, 3, 4, 5],\n",
       "       [7, 2, 5, 0]])"
      ]
     },
     "execution_count": 60,
     "metadata": {},
     "output_type": "execute_result"
    }
   ],
   "source": [
    "d_array = np.array(object=numbers, dtype=\"int\", copy=True, order=\"F\", subok=False)\n",
    "d_array"
   ]
  },
  {
   "cell_type": "markdown",
   "id": "f38c53a2",
   "metadata": {},
   "source": [
    "Uma instância do método np.array() do NumPy possui vários atributos que podem ser usados para visualizar as informações do array. Aqui estão alguns exemplos de atributos comuns que podem ser passados para a instância de np.array():\n",
    "\n",
    "    shape: usado para especificar a forma (dimensões) do array\n",
    "    size: usado para especificar o número total de elementos no array\n",
    "    itemsize: usado para especificar o tamanho em bytes de cada elemento no array\n",
    "    strides: usado para especificar o número de bytes que o array avança ao acessar cada elemento"
   ]
  },
  {
   "cell_type": "code",
   "execution_count": 52,
   "id": "0510c7a5",
   "metadata": {},
   "outputs": [
    {
     "data": {
      "text/plain": [
       "array([[2, 3, 4, 5],\n",
       "       [7, 2, 5, 0]])"
      ]
     },
     "execution_count": 52,
     "metadata": {},
     "output_type": "execute_result"
    }
   ],
   "source": [
    "e_array = np.array(numbers, \"int\")\n",
    "e_array"
   ]
  },
  {
   "cell_type": "code",
   "execution_count": 53,
   "id": "c9f686c9",
   "metadata": {},
   "outputs": [
    {
     "name": "stdout",
     "output_type": "stream",
     "text": [
      "(2, 4)\n",
      "8\n",
      "2\n",
      "4\n",
      "(16, 4)\n"
     ]
    }
   ],
   "source": [
    "print(e_array.shape) \n",
    "print(e_array.size) \n",
    "print(e_array.ndim) \n",
    "print(e_array.itemsize) \n",
    "print(e_array.strides)"
   ]
  },
  {
   "cell_type": "markdown",
   "id": "dbfea0e7",
   "metadata": {},
   "source": [
    "#### Alteração de dados do array\n"
   ]
  },
  {
   "cell_type": "code",
   "execution_count": 76,
   "id": "8bbe3fa6",
   "metadata": {},
   "outputs": [
    {
     "data": {
      "text/plain": [
       "array([[ 27, 120,  48,  34],\n",
       "       [ 55,  71,  20,  46]])"
      ]
     },
     "execution_count": 76,
     "metadata": {},
     "output_type": "execute_result"
    }
   ],
   "source": [
    "data = [[27, 21, 48, 34], [55, 71, 20, 46]]\n",
    "f_array = np.array(data, dtype=\"int\")\n",
    "f_array[0, 1] = 120 # Altera o valor da linha 0 e coluna 1\n",
    "f_array"
   ]
  },
  {
   "cell_type": "code",
   "execution_count": 83,
   "id": "98c2d9dc",
   "metadata": {},
   "outputs": [
    {
     "name": "stdout",
     "output_type": "stream",
     "text": [
      "Help on built-in function array in module numpy:\n",
      "\n",
      "array(...)\n",
      "    array(object, dtype=None, *, copy=True, order='K', subok=False, ndmin=0,\n",
      "          like=None)\n",
      "    \n",
      "    Create an array.\n",
      "    \n",
      "    Parameters\n",
      "    ----------\n",
      "    object : array_like\n",
      "        An array, any object exposing the array interface, an object whose\n",
      "        __array__ method returns an array, or any (nested) sequence.\n",
      "        If object is a scalar, a 0-dimensional array containing object is\n",
      "        returned.\n",
      "    dtype : data-type, optional\n",
      "        The desired data-type for the array.  If not given, then the type will\n",
      "        be determined as the minimum type required to hold the objects in the\n",
      "        sequence.\n",
      "    copy : bool, optional\n",
      "        If true (default), then the object is copied.  Otherwise, a copy will\n",
      "        only be made if __array__ returns a copy, if obj is a nested sequence,\n",
      "        or if a copy is needed to satisfy any of the other requirements\n",
      "        (`dtype`, `order`, etc.).\n",
      "    order : {'K', 'A', 'C', 'F'}, optional\n",
      "        Specify the memory layout of the array. If object is not an array, the\n",
      "        newly created array will be in C order (row major) unless 'F' is\n",
      "        specified, in which case it will be in Fortran order (column major).\n",
      "        If object is an array the following holds.\n",
      "    \n",
      "        ===== ========= ===================================================\n",
      "        order  no copy                     copy=True\n",
      "        ===== ========= ===================================================\n",
      "        'K'   unchanged F & C order preserved, otherwise most similar order\n",
      "        'A'   unchanged F order if input is F and not C, otherwise C order\n",
      "        'C'   C order   C order\n",
      "        'F'   F order   F order\n",
      "        ===== ========= ===================================================\n",
      "    \n",
      "        When ``copy=False`` and a copy is made for other reasons, the result is\n",
      "        the same as if ``copy=True``, with some exceptions for 'A', see the\n",
      "        Notes section. The default order is 'K'.\n",
      "    subok : bool, optional\n",
      "        If True, then sub-classes will be passed-through, otherwise\n",
      "        the returned array will be forced to be a base-class array (default).\n",
      "    ndmin : int, optional\n",
      "        Specifies the minimum number of dimensions that the resulting\n",
      "        array should have.  Ones will be prepended to the shape as\n",
      "        needed to meet this requirement.\n",
      "    like : array_like, optional\n",
      "        Reference object to allow the creation of arrays which are not\n",
      "        NumPy arrays. If an array-like passed in as ``like`` supports\n",
      "        the ``__array_function__`` protocol, the result will be defined\n",
      "        by it. In this case, it ensures the creation of an array object\n",
      "        compatible with that passed in via this argument.\n",
      "    \n",
      "        .. versionadded:: 1.20.0\n",
      "    \n",
      "    Returns\n",
      "    -------\n",
      "    out : ndarray\n",
      "        An array object satisfying the specified requirements.\n",
      "    \n",
      "    See Also\n",
      "    --------\n",
      "    empty_like : Return an empty array with shape and type of input.\n",
      "    ones_like : Return an array of ones with shape and type of input.\n",
      "    zeros_like : Return an array of zeros with shape and type of input.\n",
      "    full_like : Return a new array with shape of input filled with value.\n",
      "    empty : Return a new uninitialized array.\n",
      "    ones : Return a new array setting values to one.\n",
      "    zeros : Return a new array setting values to zero.\n",
      "    full : Return a new array of given shape filled with value.\n",
      "    \n",
      "    \n",
      "    Notes\n",
      "    -----\n",
      "    When order is 'A' and `object` is an array in neither 'C' nor 'F' order,\n",
      "    and a copy is forced by a change in dtype, then the order of the result is\n",
      "    not necessarily 'C' as expected. This is likely a bug.\n",
      "    \n",
      "    Examples\n",
      "    --------\n",
      "    >>> np.array([1, 2, 3])\n",
      "    array([1, 2, 3])\n",
      "    \n",
      "    Upcasting:\n",
      "    \n",
      "    >>> np.array([1, 2, 3.0])\n",
      "    array([ 1.,  2.,  3.])\n",
      "    \n",
      "    More than one dimension:\n",
      "    \n",
      "    >>> np.array([[1, 2], [3, 4]])\n",
      "    array([[1, 2],\n",
      "           [3, 4]])\n",
      "    \n",
      "    Minimum dimensions 2:\n",
      "    \n",
      "    >>> np.array([1, 2, 3], ndmin=2)\n",
      "    array([[1, 2, 3]])\n",
      "    \n",
      "    Type provided:\n",
      "    \n",
      "    >>> np.array([1, 2, 3], dtype=complex)\n",
      "    array([ 1.+0.j,  2.+0.j,  3.+0.j])\n",
      "    \n",
      "    Data-type consisting of more than one element:\n",
      "    \n",
      "    >>> x = np.array([(1,2),(3,4)],dtype=[('a','<i4'),('b','<i4')])\n",
      "    >>> x['a']\n",
      "    array([1, 3])\n",
      "    \n",
      "    Creating an array from sub-classes:\n",
      "    \n",
      "    >>> np.array(np.mat('1 2; 3 4'))\n",
      "    array([[1, 2],\n",
      "           [3, 4]])\n",
      "    \n",
      "    >>> np.array(np.mat('1 2; 3 4'), subok=True)\n",
      "    matrix([[1, 2],\n",
      "            [3, 4]])\n",
      "\n"
     ]
    }
   ],
   "source": [
    "help(np.array)"
   ]
  },
  {
   "cell_type": "code",
   "execution_count": 91,
   "id": "14c0f9b0",
   "metadata": {},
   "outputs": [
    {
     "data": {
      "text/plain": [
       "array([[27, 21, 48, 34],\n",
       "       [55, 71, 20, 46]])"
      ]
     },
     "execution_count": 91,
     "metadata": {},
     "output_type": "execute_result"
    }
   ],
   "source": [
    "g_array = np.array(data, dtype=\"int\", copy=True, order=\"F\", subok=False, ndmin=1, like=f_array) # like: mesma forma e tipo de dados\n",
    "g_array"
   ]
  },
  {
   "cell_type": "code",
   "execution_count": 103,
   "id": "94860898",
   "metadata": {},
   "outputs": [
    {
     "name": "stdout",
     "output_type": "stream",
     "text": [
      "[[1 1 1 1]\n",
      " [1 1 1 1]]\n",
      "---------\n",
      "[[0 0 0 0]\n",
      " [0 0 0 0]]\n",
      "---------\n",
      "[[7 7 7 7]\n",
      " [7 7 7 7]]\n",
      "---------\n",
      "[[1 1]\n",
      " [1 1]]\n",
      "---------\n",
      "[[0 0]\n",
      " [0 0]]\n",
      "---------\n",
      "[[9 9 9]\n",
      " [9 9 9]]\n"
     ]
    }
   ],
   "source": [
    "ones_array = np.ones_like(g_array)\n",
    "zeros_array = np.zeros_like(g_array)\n",
    "full_array = np.full_like(g_array, 7)\n",
    "ones = np.ones((2, 2), dtype=\"int\")\n",
    "zeros = np.zeros((2, 2), dtype=\"int\")\n",
    "fulls = np.full((2, 3), 9, dtype=\"int\")\n",
    "\n",
    "print(ones_array)\n",
    "print(\"---------\")\n",
    "print(zeros_array)\n",
    "print(\"---------\")\n",
    "print(full_array)\n",
    "print(\"---------\")\n",
    "print(ones)\n",
    "print(\"---------\")\n",
    "print(zeros)\n",
    "print(\"---------\")\n",
    "print(fulls)"
   ]
  },
  {
   "cell_type": "markdown",
   "id": "92475b11",
   "metadata": {},
   "source": [
    "## Np.arange()"
   ]
  },
  {
   "cell_type": "code",
   "execution_count": 4,
   "id": "959a4a40",
   "metadata": {},
   "outputs": [
    {
     "name": "stdout",
     "output_type": "stream",
     "text": [
      "Help on built-in function arange in module numpy:\n",
      "\n",
      "arange(...)\n",
      "    arange([start,] stop[, step,], dtype=None, *, like=None)\n",
      "    \n",
      "    Return evenly spaced values within a given interval.\n",
      "    \n",
      "    ``arange`` can be called with a varying number of positional arguments:\n",
      "    \n",
      "    * ``arange(stop)``: Values are generated within the half-open interval\n",
      "      ``[0, stop)`` (in other words, the interval including `start` but\n",
      "      excluding `stop`).\n",
      "    * ``arange(start, stop)``: Values are generated within the half-open\n",
      "      interval ``[start, stop)``.\n",
      "    * ``arange(start, stop, step)`` Values are generated within the half-open\n",
      "      interval ``[start, stop)``, with spacing between values given by\n",
      "      ``step``.\n",
      "    \n",
      "    For integer arguments the function is roughly equivalent to the Python\n",
      "    built-in :py:class:`range`, but returns an ndarray rather than a ``range``\n",
      "    instance.\n",
      "    \n",
      "    When using a non-integer step, such as 0.1, it is often better to use\n",
      "    `numpy.linspace`.\n",
      "    \n",
      "    See the Warning sections below for more information.\n",
      "    \n",
      "    Parameters\n",
      "    ----------\n",
      "    start : integer or real, optional\n",
      "        Start of interval.  The interval includes this value.  The default\n",
      "        start value is 0.\n",
      "    stop : integer or real\n",
      "        End of interval.  The interval does not include this value, except\n",
      "        in some cases where `step` is not an integer and floating point\n",
      "        round-off affects the length of `out`.\n",
      "    step : integer or real, optional\n",
      "        Spacing between values.  For any output `out`, this is the distance\n",
      "        between two adjacent values, ``out[i+1] - out[i]``.  The default\n",
      "        step size is 1.  If `step` is specified as a position argument,\n",
      "        `start` must also be given.\n",
      "    dtype : dtype, optional\n",
      "        The type of the output array.  If `dtype` is not given, infer the data\n",
      "        type from the other input arguments.\n",
      "    like : array_like, optional\n",
      "        Reference object to allow the creation of arrays which are not\n",
      "        NumPy arrays. If an array-like passed in as ``like`` supports\n",
      "        the ``__array_function__`` protocol, the result will be defined\n",
      "        by it. In this case, it ensures the creation of an array object\n",
      "        compatible with that passed in via this argument.\n",
      "    \n",
      "        .. versionadded:: 1.20.0\n",
      "    \n",
      "    Returns\n",
      "    -------\n",
      "    arange : ndarray\n",
      "        Array of evenly spaced values.\n",
      "    \n",
      "        For floating point arguments, the length of the result is\n",
      "        ``ceil((stop - start)/step)``.  Because of floating point overflow,\n",
      "        this rule may result in the last element of `out` being greater\n",
      "        than `stop`.\n",
      "    \n",
      "    Warnings\n",
      "    --------\n",
      "    The length of the output might not be numerically stable.\n",
      "    \n",
      "    Another stability issue is due to the internal implementation of\n",
      "    `numpy.arange`.\n",
      "    The actual step value used to populate the array is\n",
      "    ``dtype(start + step) - dtype(start)`` and not `step`. Precision loss\n",
      "    can occur here, due to casting or due to using floating points when\n",
      "    `start` is much larger than `step`. This can lead to unexpected\n",
      "    behaviour. For example::\n",
      "    \n",
      "      >>> np.arange(0, 5, 0.5, dtype=int)\n",
      "      array([0, 0, 0, 0, 0, 0, 0, 0, 0, 0])\n",
      "      >>> np.arange(-3, 3, 0.5, dtype=int)\n",
      "      array([-3, -2, -1,  0,  1,  2,  3,  4,  5,  6,  7,  8])\n",
      "    \n",
      "    In such cases, the use of `numpy.linspace` should be preferred.\n",
      "    \n",
      "    The built-in :py:class:`range` generates :std:doc:`Python built-in integers\n",
      "    that have arbitrary size <python:c-api/long>`, while `numpy.arange`\n",
      "    produces `numpy.int32` or `numpy.int64` numbers. This may result in\n",
      "    incorrect results for large integer values::\n",
      "    \n",
      "      >>> power = 40\n",
      "      >>> modulo = 10000\n",
      "      >>> x1 = [(n ** power) % modulo for n in range(8)]\n",
      "      >>> x2 = [(n ** power) % modulo for n in np.arange(8)]\n",
      "      >>> print(x1)\n",
      "      [0, 1, 7776, 8801, 6176, 625, 6576, 4001]  # correct\n",
      "      >>> print(x2)\n",
      "      [0, 1, 7776, 7185, 0, 5969, 4816, 3361]  # incorrect\n",
      "    \n",
      "    See Also\n",
      "    --------\n",
      "    numpy.linspace : Evenly spaced numbers with careful handling of endpoints.\n",
      "    numpy.ogrid: Arrays of evenly spaced numbers in N-dimensions.\n",
      "    numpy.mgrid: Grid-shaped arrays of evenly spaced numbers in N-dimensions.\n",
      "    :ref:`how-to-partition`\n",
      "    \n",
      "    Examples\n",
      "    --------\n",
      "    >>> np.arange(3)\n",
      "    array([0, 1, 2])\n",
      "    >>> np.arange(3.0)\n",
      "    array([ 0.,  1.,  2.])\n",
      "    >>> np.arange(3,7)\n",
      "    array([3, 4, 5, 6])\n",
      "    >>> np.arange(3,7,2)\n",
      "    array([3, 5])\n",
      "\n"
     ]
    }
   ],
   "source": [
    "help(np.arange)"
   ]
  },
  {
   "cell_type": "code",
   "execution_count": 3,
   "id": "2a24a72f",
   "metadata": {},
   "outputs": [
    {
     "data": {
      "text/plain": [
       "array([1, 2, 3, 4, 5, 6, 7, 8, 9])"
      ]
     },
     "execution_count": 3,
     "metadata": {},
     "output_type": "execute_result"
    }
   ],
   "source": [
    "np.arange(1, 10)"
   ]
  },
  {
   "cell_type": "code",
   "execution_count": 4,
   "id": "d195fb1b",
   "metadata": {},
   "outputs": [
    {
     "data": {
      "text/plain": [
       "array([0., 1., 2.])"
      ]
     },
     "execution_count": 4,
     "metadata": {},
     "output_type": "execute_result"
    }
   ],
   "source": [
    "np.arange(3.0)"
   ]
  },
  {
   "cell_type": "code",
   "execution_count": 5,
   "id": "57a25245",
   "metadata": {},
   "outputs": [
    {
     "data": {
      "text/plain": [
       "array([1, 3, 5, 7, 9])"
      ]
     },
     "execution_count": 5,
     "metadata": {},
     "output_type": "execute_result"
    }
   ],
   "source": [
    "np.arange(1, 10, 2)"
   ]
  },
  {
   "cell_type": "code",
   "execution_count": 6,
   "id": "6bf0f02c",
   "metadata": {},
   "outputs": [
    {
     "data": {
      "text/plain": [
       "array([ 0.+0.j,  1.+0.j,  2.+0.j,  3.+0.j,  4.+0.j,  5.+0.j,  6.+0.j,\n",
       "        7.+0.j,  8.+0.j,  9.+0.j, 10.+0.j, 11.+0.j, 12.+0.j, 13.+0.j,\n",
       "       14.+0.j, 15.+0.j, 16.+0.j, 17.+0.j, 18.+0.j, 19.+0.j])"
      ]
     },
     "execution_count": 6,
     "metadata": {},
     "output_type": "execute_result"
    }
   ],
   "source": [
    "np.arange(20, dtype='complex')"
   ]
  },
  {
   "cell_type": "code",
   "execution_count": 7,
   "id": "7e1524c9",
   "metadata": {},
   "outputs": [
    {
     "data": {
      "text/plain": [
       "array([1., 3., 5., 7., 9.])"
      ]
     },
     "execution_count": 7,
     "metadata": {},
     "output_type": "execute_result"
    }
   ],
   "source": [
    "np.arange(1, 10, 2, dtype=\"float\")"
   ]
  },
  {
   "cell_type": "markdown",
   "id": "5c6caaa9",
   "metadata": {},
   "source": [
    "## Np.linspace"
   ]
  },
  {
   "cell_type": "markdown",
   "id": "01007539",
   "metadata": {},
   "source": [
    "O método linspace() do NumPy é usado para criar um array NumPy com um número especificado de elementos igualmente distribuídos entre um intervalo especificado. Ele é muito útil para criar arrays de valores de referência para ajuste de curvas, gráficos e outras tarefas.\n",
    "\n",
    "Onde:\n",
    "\n",
    "    start: o valor inicial do intervalo\n",
    "    stop: o valor final do intervalo\n",
    "    num: o número de elementos no array (opcional, o padrão é 50)\n",
    "    endpoint: se o valor final deve ou não ser incluído no array (opcional, o padrão é True)\n",
    "    retstep: se o passo entre os elementos do array deve ser retornado (opcional, o padrão é False)\n",
    "    dtype: o tipo de dados dos elementos do array (opcional)\n",
    "    axis: a dimensão do array (opcional, o padrão é 0)"
   ]
  },
  {
   "cell_type": "code",
   "execution_count": 29,
   "id": "3c2c5b1d",
   "metadata": {},
   "outputs": [
    {
     "data": {
      "text/plain": [
       "array([4, 4, 4, 4, 5, 5, 5, 6, 6, 6, 7, 7, 7, 7, 8, 8, 8, 9, 9, 9])"
      ]
     },
     "execution_count": 29,
     "metadata": {},
     "output_type": "execute_result"
    }
   ],
   "source": [
    "h_array = np.linspace(start=4, stop=10, num=20, endpoint=False, retstep=False, dtype=\"int\", axis=0)\n",
    "h_array"
   ]
  },
  {
   "cell_type": "code",
   "execution_count": 39,
   "id": "4c27501c",
   "metadata": {},
   "outputs": [
    {
     "name": "stdout",
     "output_type": "stream",
     "text": [
      "(array([  1,  25,  50,  75, 100]), 24.75)\n",
      "(array([ 1. , 20.8, 40.6, 60.4, 80.2]), 19.8)\n"
     ]
    }
   ],
   "source": [
    "i_array = np.linspace(1, 100, num=5, dtype=\"int\", retstep=True)\n",
    "# Retstep é o valor do intervalo \n",
    "j_array = np.linspace(1, 100, num=5, dtype=\"float\", endpoint=False, retstep=True)\n",
    "print(i_array)\n",
    "print(j_array)"
   ]
  },
  {
   "cell_type": "markdown",
   "id": "d90b168a",
   "metadata": {},
   "source": [
    "## Eye Function"
   ]
  },
  {
   "cell_type": "code",
   "execution_count": 49,
   "id": "ce83fd1b",
   "metadata": {},
   "outputs": [
    {
     "data": {
      "text/plain": [
       "array([[1, 0, 0, 0, 0],\n",
       "       [0, 1, 0, 0, 0],\n",
       "       [0, 0, 1, 0, 0],\n",
       "       [0, 0, 0, 1, 0],\n",
       "       [0, 0, 0, 0, 1]])"
      ]
     },
     "execution_count": 49,
     "metadata": {},
     "output_type": "execute_result"
    }
   ],
   "source": [
    "k_array = np.eye(5, 5, k=0, dtype=\"int\", order='C')\n",
    "k_array"
   ]
  },
  {
   "cell_type": "code",
   "execution_count": 50,
   "id": "171ef796",
   "metadata": {},
   "outputs": [
    {
     "data": {
      "text/plain": [
       "array([[1., 0., 0., 0., 0.],\n",
       "       [0., 1., 0., 0., 0.],\n",
       "       [0., 0., 1., 0., 0.],\n",
       "       [0., 0., 0., 1., 0.],\n",
       "       [0., 0., 0., 0., 1.]])"
      ]
     },
     "execution_count": 50,
     "metadata": {},
     "output_type": "execute_result"
    }
   ],
   "source": [
    "np.identity(5)"
   ]
  },
  {
   "cell_type": "markdown",
   "id": "5778afa3",
   "metadata": {},
   "source": [
    "## Random function"
   ]
  },
  {
   "cell_type": "markdown",
   "id": "9e6c5013",
   "metadata": {},
   "source": [
    "O método rand() do módulo random do NumPy é usado para gerar números aleatórios a partir de uma distribuição uniforme [0, 1]. Ele pode ser usado para criar arrays de números aleatórios de qualquer forma ou tamanho."
   ]
  },
  {
   "cell_type": "code",
   "execution_count": 51,
   "id": "60726f44",
   "metadata": {},
   "outputs": [
    {
     "data": {
      "text/plain": [
       "array([0.07603145, 0.83020034, 0.85181087, 0.76554816, 0.28340856])"
      ]
     },
     "execution_count": 51,
     "metadata": {},
     "output_type": "execute_result"
    }
   ],
   "source": [
    "np.random.rand(5)"
   ]
  },
  {
   "cell_type": "code",
   "execution_count": 52,
   "id": "341ab542",
   "metadata": {},
   "outputs": [
    {
     "data": {
      "text/plain": [
       "array([[0.32967026, 0.49827887, 0.66392089, 0.81514374],\n",
       "       [0.02220377, 0.55970669, 0.61196506, 0.28994342],\n",
       "       [0.64222227, 0.88355504, 0.31586727, 0.71372139],\n",
       "       [0.39822669, 0.07865583, 0.05609973, 0.61159316],\n",
       "       [0.65524831, 0.74414739, 0.77878139, 0.13742569]])"
      ]
     },
     "execution_count": 52,
     "metadata": {},
     "output_type": "execute_result"
    }
   ],
   "source": [
    "np.random.rand(5, 4)"
   ]
  },
  {
   "cell_type": "markdown",
   "id": "63ab6849",
   "metadata": {},
   "source": [
    "O método randn() do módulo random do NumPy é usado para gerar números aleatórios a partir de uma distribuição normal padrão (média 0 e desvio padrão 1). Ele pode ser usado para criar arrays de números aleatórios de qualquer forma ou tamanho."
   ]
  },
  {
   "cell_type": "code",
   "execution_count": 53,
   "id": "16548396",
   "metadata": {},
   "outputs": [
    {
     "data": {
      "text/plain": [
       "array([-0.83933027,  1.52304298, -1.2660275 ,  0.89996051,  1.85121498])"
      ]
     },
     "execution_count": 53,
     "metadata": {},
     "output_type": "execute_result"
    }
   ],
   "source": [
    "np.random.randn(5)"
   ]
  },
  {
   "cell_type": "code",
   "execution_count": 54,
   "id": "9ce78094",
   "metadata": {},
   "outputs": [
    {
     "data": {
      "text/plain": [
       "array([[-1.44028883, -0.81277127,  0.24281204, -1.32260726],\n",
       "       [ 0.4178355 ,  2.06701633,  1.46162108, -2.37518448],\n",
       "       [-0.35515355, -0.16990357, -0.9669727 ,  0.61892248],\n",
       "       [ 0.54509412,  0.16922089,  0.36740023,  1.85580139],\n",
       "       [-0.03746578, -0.66170124,  1.2311993 ,  0.12337921]])"
      ]
     },
     "execution_count": 54,
     "metadata": {},
     "output_type": "execute_result"
    }
   ],
   "source": [
    "np.random.randn(5, 4)"
   ]
  },
  {
   "cell_type": "markdown",
   "id": "29c4abd9",
   "metadata": {},
   "source": [
    "O método ranf() do módulo random do NumPy é usado para gerar números aleatórios flutuantes uniformemente distribuídos entre 0 e 1. Ele pode ser usado para criar arrays de números aleatórios de qualquer forma ou tamanho."
   ]
  },
  {
   "cell_type": "code",
   "execution_count": 59,
   "id": "2663d7be",
   "metadata": {},
   "outputs": [
    {
     "data": {
      "text/plain": [
       "array([0.34256501, 0.43675641, 0.81638223, 0.2690172 , 0.24591046])"
      ]
     },
     "execution_count": 59,
     "metadata": {},
     "output_type": "execute_result"
    }
   ],
   "source": [
    "np.random.ranf(5)"
   ]
  },
  {
   "cell_type": "code",
   "execution_count": 71,
   "id": "6f204861",
   "metadata": {},
   "outputs": [
    {
     "data": {
      "text/plain": [
       "[3, 6, 9, 24, 31, 51]"
      ]
     },
     "execution_count": 71,
     "metadata": {},
     "output_type": "execute_result"
    }
   ],
   "source": [
    "l_array = sorted(np.unique(np.random.randint(1, 60, 6, dtype=\"int\")))\n",
    "l_array"
   ]
  }
 ],
 "metadata": {
  "kernelspec": {
   "display_name": "Python 3 (ipykernel)",
   "language": "python",
   "name": "python3"
  },
  "language_info": {
   "codemirror_mode": {
    "name": "ipython",
    "version": 3
   },
   "file_extension": ".py",
   "mimetype": "text/x-python",
   "name": "python",
   "nbconvert_exporter": "python",
   "pygments_lexer": "ipython3",
   "version": "3.10.7"
  },
  "vscode": {
   "interpreter": {
    "hash": "107d7b120a5b68773a87d4067e673630b35702e55ebab3138143d08b1c4d7cbc"
   }
  }
 },
 "nbformat": 4,
 "nbformat_minor": 5
}
